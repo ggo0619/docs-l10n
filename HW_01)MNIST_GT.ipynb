{
  "nbformat": 4,
  "nbformat_minor": 0,
  "metadata": {
    "colab": {
      "provenance": [],
      "mount_file_id": "1HQWRVkARMSv1MHcp_3jooxj0EXtEzqNR",
      "authorship_tag": "ABX9TyNN3EGxlRbP+huO+cfMdS5i",
      "include_colab_link": true
    },
    "kernelspec": {
      "name": "python3",
      "display_name": "Python 3"
    },
    "language_info": {
      "name": "python"
    }
  },
  "cells": [
    {
      "cell_type": "markdown",
      "metadata": {
        "id": "view-in-github",
        "colab_type": "text"
      },
      "source": [
        "<a href=\"https://colab.research.google.com/github/ggo0619/docs-l10n/blob/master/HW_01)MNIST_GT.ipynb\" target=\"_parent\"><img src=\"https://colab.research.google.com/assets/colab-badge.svg\" alt=\"Open In Colab\"/></a>"
      ]
    },
    {
      "cell_type": "markdown",
      "source": [
        "# **과제 1에 대한 solution sample입니다. **"
      ],
      "metadata": {
        "id": "WdkZb-o7I8qc"
      }
    },
    {
      "cell_type": "code",
      "execution_count": null,
      "metadata": {
        "id": "qauQvRmaP8qg"
      },
      "outputs": [],
      "source": [
        "import torch\n",
        "import numpy as np\n",
        "import random\n",
        "import matplotlib.pyplot as plt\n",
        "import pandas as pd\n",
        "import scipy.io as sio\n",
        "import os\n",
        "from torch import nn\n",
        "\n",
        "import matplotlib.pyplot as plt\n",
        "\n",
        "from torchvision.datasets.mnist import MNIST\n",
        "from torchvision.transforms import ToTensor"
      ]
    },
    {
      "cell_type": "code",
      "source": [
        "training_data=MNIST(root=\"./\", train=True, download=True, transform=ToTensor())\n",
        "test_data=MNIST(root=\"./\", train=False, download=True, transform=ToTensor())\n",
        "\n",
        "print(\"training data len : \",len(training_data))\n",
        "print(\"test data len : \",len(test_data))\n",
        "\n",
        "# data image 9장 불러오기 - plt 사용\n",
        "for i in range(9):\n",
        "  plt.subplot(3, 3, i+1)\n",
        "  plt.imshow(training_data.data[i])\n",
        "plt.show()"
      ],
      "metadata": {
        "colab": {
          "base_uri": "https://localhost:8080/",
          "height": 827
        },
        "id": "mX4aOpYuQWWi",
        "outputId": "2f698eb3-de1e-467d-eeca-c2a427352c38"
      },
      "execution_count": null,
      "outputs": [
        {
          "output_type": "stream",
          "name": "stdout",
          "text": [
            "Downloading http://yann.lecun.com/exdb/mnist/train-images-idx3-ubyte.gz\n",
            "Downloading http://yann.lecun.com/exdb/mnist/train-images-idx3-ubyte.gz to ./MNIST/raw/train-images-idx3-ubyte.gz\n"
          ]
        },
        {
          "output_type": "stream",
          "name": "stderr",
          "text": [
            "100%|██████████| 9912422/9912422 [00:00<00:00, 110275428.55it/s]\n"
          ]
        },
        {
          "output_type": "stream",
          "name": "stdout",
          "text": [
            "Extracting ./MNIST/raw/train-images-idx3-ubyte.gz to ./MNIST/raw\n",
            "\n",
            "Downloading http://yann.lecun.com/exdb/mnist/train-labels-idx1-ubyte.gz\n",
            "Downloading http://yann.lecun.com/exdb/mnist/train-labels-idx1-ubyte.gz to ./MNIST/raw/train-labels-idx1-ubyte.gz\n"
          ]
        },
        {
          "output_type": "stream",
          "name": "stderr",
          "text": [
            "100%|██████████| 28881/28881 [00:00<00:00, 21233250.45it/s]\n"
          ]
        },
        {
          "output_type": "stream",
          "name": "stdout",
          "text": [
            "Extracting ./MNIST/raw/train-labels-idx1-ubyte.gz to ./MNIST/raw\n",
            "\n",
            "Downloading http://yann.lecun.com/exdb/mnist/t10k-images-idx3-ubyte.gz\n",
            "Downloading http://yann.lecun.com/exdb/mnist/t10k-images-idx3-ubyte.gz to ./MNIST/raw/t10k-images-idx3-ubyte.gz\n"
          ]
        },
        {
          "output_type": "stream",
          "name": "stderr",
          "text": [
            "100%|██████████| 1648877/1648877 [00:00<00:00, 29870648.03it/s]\n"
          ]
        },
        {
          "output_type": "stream",
          "name": "stdout",
          "text": [
            "Extracting ./MNIST/raw/t10k-images-idx3-ubyte.gz to ./MNIST/raw\n",
            "\n",
            "Downloading http://yann.lecun.com/exdb/mnist/t10k-labels-idx1-ubyte.gz\n",
            "Downloading http://yann.lecun.com/exdb/mnist/t10k-labels-idx1-ubyte.gz to ./MNIST/raw/t10k-labels-idx1-ubyte.gz\n"
          ]
        },
        {
          "output_type": "stream",
          "name": "stderr",
          "text": [
            "100%|██████████| 4542/4542 [00:00<00:00, 4864792.84it/s]\n"
          ]
        },
        {
          "output_type": "stream",
          "name": "stdout",
          "text": [
            "Extracting ./MNIST/raw/t10k-labels-idx1-ubyte.gz to ./MNIST/raw\n",
            "\n",
            "training data len :  60000\n",
            "test data len :  10000\n"
          ]
        },
        {
          "output_type": "display_data",
          "data": {
            "text/plain": [
              "<Figure size 640x480 with 9 Axes>"
            ],
            "image/png": "[encoded data removed]"
          },
          "metadata": {}
        }
      ]
    },
    {
      "cell_type": "code",
      "source": [
        "from torch.utils.data import DataLoader\n",
        "\n",
        "# train loader와 test loader 정의하기 (batch size : 32/ train : shuffle=True, test : shuffle=False)\n",
        "train_loader = DataLoader(training_data, batch_size=32, shuffle=True)\n",
        "test_loader = DataLoader(test_data, batch_size=32, shuffle=False)"
      ],
      "metadata": {
        "id": "F_y2syXETHiW"
      },
      "execution_count": null,
      "outputs": []
    },
    {
      "cell_type": "code",
      "source": [
        "import numpy as np\n",
        "\n",
        "x_values = [i for i in range(11)]\n",
        "x_train = np.array(x_values, dtype=np.float32)\n",
        "x_train = x_train.reshape(-1, 1)\n",
        "\n",
        "y_values = [2*i + 1 for i in x_values]\n",
        "y_train = np.array(y_values, dtype=np.float32)\n",
        "y_train = y_train.reshape(-1, 1)"
      ],
      "metadata": {
        "id": "vyNh8ohwWmdS"
      },
      "execution_count": null,
      "outputs": []
    },
    {
      "cell_type": "code",
      "source": [
        "# 간단한 linear regression model 구현해보기\n",
        "\n",
        "import torch\n",
        "from torch.autograd import Variable\n",
        "\n",
        "class linearRegression(torch.nn.Module):\n",
        "    def __init__(self, inputSize, outputSize):\n",
        "        super(linearRegression, self).__init__()\n",
        "        self.linear = torch.nn.Linear(inputSize, outputSize)\n",
        "\n",
        "    def forward(self, x):\n",
        "        out = self.linear(x)\n",
        "        return out\n"
      ],
      "metadata": {
        "id": "uAGkzd3oVN2K"
      },
      "execution_count": null,
      "outputs": []
    },
    {
      "cell_type": "code",
      "source": [
        "inputDim = 1 # 'x'의 차원이 1이 되는 이유를 설명하시오. : 단순한 선형회귀모델이므로 입력차원은 1이 된다./ 생성한 data의 차원이 1이라서 input dim이 1이기 떄문입니다.\n",
        "outputDim = 1 # 'y'의 차원이 1이 되는 이유를 설명하시오. : 선형회귀 모델이므로, 입력값 x에 대한 단일값 y를 도출해내기 때문이다.\n",
        "\n",
        "learningRate = 0.01\n",
        "epochs = 100\n",
        "\n",
        "model = linearRegression(inputDim, outputDim)\n",
        "\n",
        "if torch.cuda.is_available():\n",
        "    model.cuda()"
      ],
      "metadata": {
        "id": "1CMbd7meWw6s"
      },
      "execution_count": null,
      "outputs": []
    },
    {
      "cell_type": "code",
      "source": [
        "criterion = torch.nn.MSELoss()\n",
        "optimizer = torch.optim.SGD(model.parameters(), lr=learningRate)"
      ],
      "metadata": {
        "id": "Eyn9oOFIWx--"
      },
      "execution_count": null,
      "outputs": []
    },
    {
      "cell_type": "code",
      "source": [
        "for epoch in range(epochs):\n",
        "\n",
        "    if torch.cuda.is_available():\n",
        "        inputs = Variable(torch.from_numpy(x_train).cuda())\n",
        "        labels = Variable(torch.from_numpy(y_train).cuda())\n",
        "    else:\n",
        "        inputs = Variable(torch.from_numpy(x_train))\n",
        "        labels = Variable(torch.from_numpy(y_train))\n",
        "\n",
        "    optimizer.zero_grad()\n",
        "    # 기존의 학습 gradiant가 누적되면 다음 학습 gradiant에 영향을 미치므로, zero_grad()를 이용하여 0으로 gariant값을 초기화 시켜줍니다.\n",
        "\n",
        "    outputs = model(inputs)\n",
        "\n",
        "    loss = criterion(outputs, labels)\n",
        "    # 각 파라미터를 미분해서 gradiant를 계산하여 가중치를 업데이트하는데 이는 손실을 최소화를 하기 위해서입니다.\n",
        "    print(loss)\n",
        "\n",
        "    loss.backward()\n",
        "\n",
        "    optimizer.step()\n",
        "\n",
        "    print('epoch {}, loss {}'.format(epoch, loss.item()))"
      ],
      "metadata": {
        "colab": {
          "base_uri": "https://localhost:8080/"
        },
        "id": "V1a2CTu5Wzkw",
        "outputId": "afccad7c-8829-42e5-e18a-aa632a33c25f"
      },
      "execution_count": null,
      "outputs": [
        {
          "output_type": "stream",
          "name": "stdout",
          "text": [
            "tensor(283.8836, grad_fn=<MseLossBackward0>)\n",
            "epoch 0, loss 283.8835754394531\n",
            "tensor(23.3472, grad_fn=<MseLossBackward0>)\n",
            "epoch 1, loss 23.34716033935547\n",
            "tensor(2.0939, grad_fn=<MseLossBackward0>)\n",
            "epoch 2, loss 2.0938827991485596\n",
            "tensor(0.3582, grad_fn=<MseLossBackward0>)\n",
            "epoch 3, loss 0.35820144414901733\n",
            "tensor(0.2145, grad_fn=<MseLossBackward0>)\n",
            "epoch 4, loss 0.21453522145748138\n",
            "tensor(0.2007, grad_fn=<MseLossBackward0>)\n",
            "epoch 5, loss 0.20074711740016937\n",
            "tensor(0.1976, grad_fn=<MseLossBackward0>)\n",
            "epoch 6, loss 0.19757650792598724\n",
            "tensor(0.1953, grad_fn=<MseLossBackward0>)\n",
            "epoch 7, loss 0.19529427587985992\n",
            "tensor(0.1931, grad_fn=<MseLossBackward0>)\n",
            "epoch 8, loss 0.19310735166072845\n",
            "tensor(0.1910, grad_fn=<MseLossBackward0>)\n",
            "epoch 9, loss 0.19095011055469513\n",
            "tensor(0.1888, grad_fn=<MseLossBackward0>)\n",
            "epoch 10, loss 0.18881787359714508\n",
            "tensor(0.1867, grad_fn=<MseLossBackward0>)\n",
            "epoch 11, loss 0.18670940399169922\n",
            "tensor(0.1846, grad_fn=<MseLossBackward0>)\n",
            "epoch 12, loss 0.18462452292442322\n",
            "tensor(0.1826, grad_fn=<MseLossBackward0>)\n",
            "epoch 13, loss 0.18256264925003052\n",
            "tensor(0.1805, grad_fn=<MseLossBackward0>)\n",
            "epoch 14, loss 0.18052425980567932\n",
            "tensor(0.1785, grad_fn=<MseLossBackward0>)\n",
            "epoch 15, loss 0.17850826680660248\n",
            "tensor(0.1765, grad_fn=<MseLossBackward0>)\n",
            "epoch 16, loss 0.1765148937702179\n",
            "tensor(0.1745, grad_fn=<MseLossBackward0>)\n",
            "epoch 17, loss 0.17454378306865692\n",
            "tensor(0.1726, grad_fn=<MseLossBackward0>)\n",
            "epoch 18, loss 0.17259453237056732\n",
            "tensor(0.1707, grad_fn=<MseLossBackward0>)\n",
            "epoch 19, loss 0.1706673800945282\n",
            "tensor(0.1688, grad_fn=<MseLossBackward0>)\n",
            "epoch 20, loss 0.16876134276390076\n",
            "tensor(0.1669, grad_fn=<MseLossBackward0>)\n",
            "epoch 21, loss 0.166876882314682\n",
            "tensor(0.1650, grad_fn=<MseLossBackward0>)\n",
            "epoch 22, loss 0.1650136411190033\n",
            "tensor(0.1632, grad_fn=<MseLossBackward0>)\n",
            "epoch 23, loss 0.16317063570022583\n",
            "tensor(0.1613, grad_fn=<MseLossBackward0>)\n",
            "epoch 24, loss 0.1613488793373108\n",
            "tensor(0.1595, grad_fn=<MseLossBackward0>)\n",
            "epoch 25, loss 0.1595468372106552\n",
            "tensor(0.1578, grad_fn=<MseLossBackward0>)\n",
            "epoch 26, loss 0.1577652543783188\n",
            "tensor(0.1560, grad_fn=<MseLossBackward0>)\n",
            "epoch 27, loss 0.15600362420082092\n",
            "tensor(0.1543, grad_fn=<MseLossBackward0>)\n",
            "epoch 28, loss 0.15426160395145416\n",
            "tensor(0.1525, grad_fn=<MseLossBackward0>)\n",
            "epoch 29, loss 0.15253883600234985\n",
            "tensor(0.1508, grad_fn=<MseLossBackward0>)\n",
            "epoch 30, loss 0.1508355587720871\n",
            "tensor(0.1492, grad_fn=<MseLossBackward0>)\n",
            "epoch 31, loss 0.14915098249912262\n",
            "tensor(0.1475, grad_fn=<MseLossBackward0>)\n",
            "epoch 32, loss 0.1474856585264206\n",
            "tensor(0.1458, grad_fn=<MseLossBackward0>)\n",
            "epoch 33, loss 0.1458386331796646\n",
            "tensor(0.1442, grad_fn=<MseLossBackward0>)\n",
            "epoch 34, loss 0.14421001076698303\n",
            "tensor(0.1426, grad_fn=<MseLossBackward0>)\n",
            "epoch 35, loss 0.14259979128837585\n",
            "tensor(0.1410, grad_fn=<MseLossBackward0>)\n",
            "epoch 36, loss 0.14100725948810577\n",
            "tensor(0.1394, grad_fn=<MseLossBackward0>)\n",
            "epoch 37, loss 0.13943256437778473\n",
            "tensor(0.1379, grad_fn=<MseLossBackward0>)\n",
            "epoch 38, loss 0.1378757655620575\n",
            "tensor(0.1363, grad_fn=<MseLossBackward0>)\n",
            "epoch 39, loss 0.1363360434770584\n",
            "tensor(0.1348, grad_fn=<MseLossBackward0>)\n",
            "epoch 40, loss 0.13481368124485016\n",
            "tensor(0.1333, grad_fn=<MseLossBackward0>)\n",
            "epoch 41, loss 0.13330823183059692\n",
            "tensor(0.1318, grad_fn=<MseLossBackward0>)\n",
            "epoch 42, loss 0.13181956112384796\n",
            "tensor(0.1303, grad_fn=<MseLossBackward0>)\n",
            "epoch 43, loss 0.13034768402576447\n",
            "tensor(0.1289, grad_fn=<MseLossBackward0>)\n",
            "epoch 44, loss 0.1288919299840927\n",
            "tensor(0.1275, grad_fn=<MseLossBackward0>)\n",
            "epoch 45, loss 0.12745267152786255\n",
            "tensor(0.1260, grad_fn=<MseLossBackward0>)\n",
            "epoch 46, loss 0.12602931261062622\n",
            "tensor(0.1246, grad_fn=<MseLossBackward0>)\n",
            "epoch 47, loss 0.12462211400270462\n",
            "tensor(0.1232, grad_fn=<MseLossBackward0>)\n",
            "epoch 48, loss 0.12323027104139328\n",
            "tensor(0.1219, grad_fn=<MseLossBackward0>)\n",
            "epoch 49, loss 0.12185431271791458\n",
            "tensor(0.1205, grad_fn=<MseLossBackward0>)\n",
            "epoch 50, loss 0.12049362063407898\n",
            "tensor(0.1191, grad_fn=<MseLossBackward0>)\n",
            "epoch 51, loss 0.11914797127246857\n",
            "tensor(0.1178, grad_fn=<MseLossBackward0>)\n",
            "epoch 52, loss 0.11781755089759827\n",
            "tensor(0.1165, grad_fn=<MseLossBackward0>)\n",
            "epoch 53, loss 0.11650200188159943\n",
            "tensor(0.1152, grad_fn=<MseLossBackward0>)\n",
            "epoch 54, loss 0.11520104110240936\n",
            "tensor(0.1139, grad_fn=<MseLossBackward0>)\n",
            "epoch 55, loss 0.11391455680131912\n",
            "tensor(0.1126, grad_fn=<MseLossBackward0>)\n",
            "epoch 56, loss 0.11264243721961975\n",
            "tensor(0.1114, grad_fn=<MseLossBackward0>)\n",
            "epoch 57, loss 0.11138451844453812\n",
            "tensor(0.1101, grad_fn=<MseLossBackward0>)\n",
            "epoch 58, loss 0.11014074832201004\n",
            "tensor(0.1089, grad_fn=<MseLossBackward0>)\n",
            "epoch 59, loss 0.10891096293926239\n",
            "tensor(0.1077, grad_fn=<MseLossBackward0>)\n",
            "epoch 60, loss 0.10769467055797577\n",
            "tensor(0.1065, grad_fn=<MseLossBackward0>)\n",
            "epoch 61, loss 0.1064920425415039\n",
            "tensor(0.1053, grad_fn=<MseLossBackward0>)\n",
            "epoch 62, loss 0.10530292242765427\n",
            "tensor(0.1041, grad_fn=<MseLossBackward0>)\n",
            "epoch 63, loss 0.10412704199552536\n",
            "tensor(0.1030, grad_fn=<MseLossBackward0>)\n",
            "epoch 64, loss 0.10296420753002167\n",
            "tensor(0.1018, grad_fn=<MseLossBackward0>)\n",
            "epoch 65, loss 0.10181446373462677\n",
            "tensor(0.1007, grad_fn=<MseLossBackward0>)\n",
            "epoch 66, loss 0.10067734867334366\n",
            "tensor(0.0996, grad_fn=<MseLossBackward0>)\n",
            "epoch 67, loss 0.09955323487520218\n",
            "tensor(0.0984, grad_fn=<MseLossBackward0>)\n",
            "epoch 68, loss 0.09844151139259338\n",
            "tensor(0.0973, grad_fn=<MseLossBackward0>)\n",
            "epoch 69, loss 0.09734217822551727\n",
            "tensor(0.0963, grad_fn=<MseLossBackward0>)\n",
            "epoch 70, loss 0.09625541418790817\n",
            "tensor(0.0952, grad_fn=<MseLossBackward0>)\n",
            "epoch 71, loss 0.09518027305603027\n",
            "tensor(0.0941, grad_fn=<MseLossBackward0>)\n",
            "epoch 72, loss 0.09411758929491043\n",
            "tensor(0.0931, grad_fn=<MseLossBackward0>)\n",
            "epoch 73, loss 0.09306652098894119\n",
            "tensor(0.0920, grad_fn=<MseLossBackward0>)\n",
            "epoch 74, loss 0.09202738106250763\n",
            "tensor(0.0910, grad_fn=<MseLossBackward0>)\n",
            "epoch 75, loss 0.09099964797496796\n",
            "tensor(0.0900, grad_fn=<MseLossBackward0>)\n",
            "epoch 76, loss 0.08998342603445053\n",
            "tensor(0.0890, grad_fn=<MseLossBackward0>)\n",
            "epoch 77, loss 0.08897855877876282\n",
            "tensor(0.0880, grad_fn=<MseLossBackward0>)\n",
            "epoch 78, loss 0.08798491209745407\n",
            "tensor(0.0870, grad_fn=<MseLossBackward0>)\n",
            "epoch 79, loss 0.0870024636387825\n",
            "tensor(0.0860, grad_fn=<MseLossBackward0>)\n",
            "epoch 80, loss 0.08603093028068542\n",
            "tensor(0.0851, grad_fn=<MseLossBackward0>)\n",
            "epoch 81, loss 0.08507030457258224\n",
            "tensor(0.0841, grad_fn=<MseLossBackward0>)\n",
            "epoch 82, loss 0.08412018418312073\n",
            "tensor(0.0832, grad_fn=<MseLossBackward0>)\n",
            "epoch 83, loss 0.08318093419075012\n",
            "tensor(0.0823, grad_fn=<MseLossBackward0>)\n",
            "epoch 84, loss 0.08225202560424805\n",
            "tensor(0.0813, grad_fn=<MseLossBackward0>)\n",
            "epoch 85, loss 0.08133361488580704\n",
            "tensor(0.0804, grad_fn=<MseLossBackward0>)\n",
            "epoch 86, loss 0.08042538911104202\n",
            "tensor(0.0795, grad_fn=<MseLossBackward0>)\n",
            "epoch 87, loss 0.07952714711427689\n",
            "tensor(0.0786, grad_fn=<MseLossBackward0>)\n",
            "epoch 88, loss 0.0786391869187355\n",
            "tensor(0.0778, grad_fn=<MseLossBackward0>)\n",
            "epoch 89, loss 0.07776109129190445\n",
            "tensor(0.0769, grad_fn=<MseLossBackward0>)\n",
            "epoch 90, loss 0.07689262181520462\n",
            "tensor(0.0760, grad_fn=<MseLossBackward0>)\n",
            "epoch 91, loss 0.07603401690721512\n",
            "tensor(0.0752, grad_fn=<MseLossBackward0>)\n",
            "epoch 92, loss 0.07518500089645386\n",
            "tensor(0.0743, grad_fn=<MseLossBackward0>)\n",
            "epoch 93, loss 0.07434537261724472\n",
            "tensor(0.0735, grad_fn=<MseLossBackward0>)\n",
            "epoch 94, loss 0.07351517677307129\n",
            "tensor(0.0727, grad_fn=<MseLossBackward0>)\n",
            "epoch 95, loss 0.07269423454999924\n",
            "tensor(0.0719, grad_fn=<MseLossBackward0>)\n",
            "epoch 96, loss 0.07188253849744797\n",
            "tensor(0.0711, grad_fn=<MseLossBackward0>)\n",
            "epoch 97, loss 0.07107984274625778\n",
            "tensor(0.0703, grad_fn=<MseLossBackward0>)\n",
            "epoch 98, loss 0.07028608024120331\n",
            "tensor(0.0695, grad_fn=<MseLossBackward0>)\n",
            "epoch 99, loss 0.069501131772995\n"
          ]
        }
      ]
    },
    {
      "cell_type": "code",
      "source": [
        "with torch.no_grad():\n",
        "    if torch.cuda.is_available():\n",
        "        predicted = model(Variable(torch.from_numpy(x_train).cuda())).cpu().data.numpy()\n",
        "    else:\n",
        "        predicted = model(Variable(torch.from_numpy(x_train))).data.numpy()\n",
        "    print(predicted)\n",
        "\n",
        "plt.clf()\n",
        "plt.plot(x_train, y_train, 'go', label='True data', alpha=0.5)\n",
        "plt.plot(x_train, predicted, '--', label='Predictions', alpha=0.5)\n",
        "plt.legend(loc='best')\n",
        "plt.show()"
      ],
      "metadata": {
        "id": "I31foyPTW2J8",
        "colab": {
          "base_uri": "https://localhost:8080/",
          "height": 627
        },
        "outputId": "e233a2e2-f45c-494f-a9cf-87cff25ee965"
      },
      "execution_count": null,
      "outputs": [
        {
          "output_type": "stream",
          "name": "stdout",
          "text": [
            "[[ 0.5095934]\n",
            " [ 2.5802164]\n",
            " [ 4.6508393]\n",
            " [ 6.7214622]\n",
            " [ 8.792085 ]\n",
            " [10.862708 ]\n",
            " [12.933331 ]\n",
            " [15.003953 ]\n",
            " [17.074577 ]\n",
            " [19.1452   ]\n",
            " [21.215824 ]]\n"
          ]
        },
        {
          "output_type": "display_data",
          "data": {
            "text/plain": [
              "<Figure size 640x480 with 1 Axes>"
            ],
            "image/png": "[encoded data removed]"
          },
          "metadata": {}
        }
      ]
    },
    {
      "cell_type": "code",
      "source": [
        "\"\"\"\n",
        "# (Linear regerssion이 왜 Neural network인지)\n",
        ": 선형회귀 모델은 하나의 인공 뉴런으로 구성된 신경망(=단일층 신경망)으로 사용할 수 있으며, 선형회귀의 경우 모든 입력이 출력에 연결되어 있습니다.\n",
        "\n",
        "# (해당 과제를 예시로 들어 설명)\n",
        ": x_train은 0~10까지의 값을 포함하는 입력데이터를 나타내며, y_train은 x의 각 값에 대한 출력데이터입니다. 이것은 2*x +1관계에 있는 선형 데이터입니다.\n",
        ": linearRegression를 사용하여 선형회귀 모델을 설정하는데 이 모델은 단일 입력=inputDim과 단일 출력=outputDim을 가지게 됩니다.\n",
        ": MSE를 사용하여 모델의 예측값과 실제 값 사이의 오차를 최소화하려고 합니다.\n",
        ": SDG를 사용하여 모델의 가중치와 편향을 조정하면서 손실을 최소화합니다.\n",
        "\"\"\""
      ],
      "metadata": {
        "id": "HHTlPrghItPm"
      },
      "execution_count": null,
      "outputs": []
    }
  ]
}